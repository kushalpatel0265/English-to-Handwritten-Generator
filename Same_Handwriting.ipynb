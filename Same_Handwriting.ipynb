{
 "cells": [
  {
   "cell_type": "code",
   "execution_count": 1,
   "id": "82281258-ce2b-4595-8a59-7d4c46791677",
   "metadata": {},
   "outputs": [
    {
     "name": "stdin",
     "output_type": "stream",
     "text": [
      "Enter a string:  book\n"
     ]
    }
   ],
   "source": [
    "input = input(\"Enter a string: \")"
   ]
  },
  {
   "cell_type": "code",
   "execution_count": 2,
   "id": "68f411ab-32dd-4a16-b164-a8a6ce80c4c9",
   "metadata": {},
   "outputs": [],
   "source": [
    "def warn(*args, **kwargs):\n",
    "    pass\n",
    "import warnings\n",
    "warnings.warn = warn\n",
    "warnings.filterwarnings('ignore')\n",
    "\n",
    "import pandas as pd\n",
    "import random\n",
    "\n",
    "def generate_random_image(char,i):\n",
    "    ascii_value = ord(char)\n",
    "    if 48 <= ascii_value <= 57:\n",
    "        start = ((ascii_value - 48) * 55) + 1\n",
    "        end = ((ascii_value - 47) * 55)\n",
    "    elif 65 <= ascii_value <= 90:\n",
    "        start = 550 + (((ascii_value - 65) * 55) + 1)\n",
    "        end = 550 + ((ascii_value - 64) * 55)\n",
    "    else:\n",
    "        start = 1980 + (((ascii_value - 97) * 55) + 1)\n",
    "        end = 1980 + ((ascii_value - 96) * 55)\n",
    "        \n",
    "    df = pd.read_csv('english.csv')\n",
    "    return df['image'].iloc[start+i-1]"
   ]
  },
  {
   "cell_type": "code",
   "execution_count": 3,
   "id": "7ab107bf-4776-43b6-bc2f-183e27a5c15d",
   "metadata": {},
   "outputs": [],
   "source": [
    "import cv2\n",
    "import numpy as np\n",
    "\n",
    "def image_to_csv(input_image_path, output_csv_path):\n",
    "    # Read the image using OpenCV\n",
    "    image = cv2.imread(input_image_path, cv2.IMREAD_GRAYSCALE)\n",
    "\n",
    "    # Check if the image is loaded successfully\n",
    "    if image is None:\n",
    "        print(\"Error: Unable to read the image.\")\n",
    "        return\n",
    "\n",
    "    # Convert the flattened array to a NumPy array\n",
    "    numpy_array = np.asarray(image)\n",
    "\n",
    "    # Save the NumPy array to a CSV file\n",
    "    np.savetxt(output_csv_path, numpy_array, delimiter=\",\")"
   ]
  },
  {
   "cell_type": "code",
   "execution_count": 4,
   "id": "36808c98-713d-4ae6-bd90-be74cc8f3fed",
   "metadata": {},
   "outputs": [],
   "source": [
    "import pandas as pd\n",
    "import matplotlib.pyplot as plt\n",
    "\n",
    "def csv_to_image(csv_file, output_image):\n",
    "    # Read CSV file into a Pandas DataFrame\n",
    "    df = pd.read_csv(csv_file)\n",
    "\n",
    "    # Convert DataFrame to a NumPy array\n",
    "    data = df.values\n",
    "\n",
    "    # Plot the data as an image using Matplotlib\n",
    "    plt.imshow(data, cmap='gray', interpolation='nearest')\n",
    "\n",
    "    plt.axis('off')\n",
    "    \n",
    "    # Save the image without displaying it\n",
    "    plt.savefig(output_image)"
   ]
  },
  {
   "cell_type": "code",
   "execution_count": 5,
   "id": "299d61ca-3e1b-40d9-bc78-992dd30e095c",
   "metadata": {},
   "outputs": [],
   "source": [
    "import pandas as pd\n",
    "\n",
    "def append_csv_files(input_csv1, input_csv2, output_csv):\n",
    "    # Read the first CSV file into a DataFrame\n",
    "    df1 = pd.read_csv(input_csv1, header=None)\n",
    "\n",
    "    # Read the second CSV file into a DataFrame\n",
    "    df2 = pd.read_csv(input_csv2, header=None)\n",
    "\n",
    "    # Concatenate the two DataFrames along the rows (axis=0)\n",
    "    combined_df = pd.concat([df1, df2], axis=1)\n",
    "\n",
    "    # Save the combined DataFrame to a new CSV file\n",
    "    combined_df.to_csv(output_csv, header=False, index=False)"
   ]
  },
  {
   "cell_type": "code",
   "execution_count": 6,
   "id": "f83f9659-3cf9-45d5-8929-e41263ae1dc1",
   "metadata": {},
   "outputs": [],
   "source": [
    "import os\n",
    "\n",
    "def remove_csv_data(csv_file_path):\n",
    "    try:\n",
    "        # Open the CSV file in write mode and use truncate() to remove data\n",
    "        with open(csv_file_path, 'w') as file:\n",
    "            file.truncate()\n",
    "        # print(f\"Data removed from {csv_file_path}.\")\n",
    "    except Exception as e:\n",
    "        print(f\"An error occurred: {str(e)}\")\n",
    "\n",
    "# Example usage\n",
    "# csv_path_to_clear = 'path/to/your/file.csv'\n",
    "# remove_csv_data(csv_path_to_clear)\n"
   ]
  },
  {
   "cell_type": "code",
   "execution_count": 7,
   "id": "744ee8b8-2d18-40d6-bf8d-15f962fafa68",
   "metadata": {},
   "outputs": [
    {
     "data": {
      "image/png": "[encoded data removed]",
      "text/plain": [
       "<Figure size 640x480 with 1 Axes>"
      ]
     },
     "metadata": {},
     "output_type": "display_data"
    }
   ],
   "source": [
    "remove_csv_data('sam.csv')\n",
    "remove_csv_data('sam1.csv')\n",
    "for i in range(55):\n",
    "    \n",
    "    i_1 = generate_random_image(input[0],i)\n",
    "    image_to_csv(i_1, \"sam.csv\")\n",
    "    for ch in input[1:]:\n",
    "        x = generate_random_image(ch,i)\n",
    "        image_to_csv(x, \"sam1.csv\")\n",
    "        append_csv_files(\"sam.csv\", \"sam1.csv\", \"sam.csv\")\n",
    "    \n",
    "        if __name__ == \"__main__\":\n",
    "            csv = 'sam.csv'  # Replace with your CSV file path\n",
    "            output = f\"{i+1}.png\"  # Replace with desired output image path\n",
    "        \n",
    "            csv_to_image(csv, output)\n",
    "\n",
    "    remove_csv_data('sam.csv')\n",
    "    remove_csv_data('sam1.csv')"
   ]
  }
 ],
 "metadata": {
  "kernelspec": {
   "display_name": "Python 3 (ipykernel)",
   "language": "python",
   "name": "python3"
  },
  "language_info": {
   "codemirror_mode": {
    "name": "ipython",
    "version": 3
   },
   "file_extension": ".py",
   "mimetype": "text/x-python",
   "name": "python",
   "nbconvert_exporter": "python",
   "pygments_lexer": "ipython3",
   "version": "3.12.1"
  }
 },
 "nbformat": 4,
 "nbformat_minor": 5
}
