{
 "cells": [
  {
   "cell_type": "code",
   "execution_count": 1,
   "id": "5c975811-7eb1-4bff-8b35-c8c2f976f34a",
   "metadata": {},
   "outputs": [
    {
     "name": "stdin",
     "output_type": "stream",
     "text": [
      "Enter a string:  abc\n"
     ]
    }
   ],
   "source": [
    "input = input(\"Enter a string: \")"
   ]
  },
  {
   "cell_type": "code",
   "execution_count": 2,
   "id": "922639db-c2f2-409b-831a-2fa3af2b8748",
   "metadata": {},
   "outputs": [],
   "source": [
    "def warn(*args, **kwargs):\n",
    "    pass\n",
    "import warnings\n",
    "warnings.warn = warn\n",
    "warnings.filterwarnings('ignore')\n",
    "\n",
    "import pandas as pd\n",
    "import random\n",
    "\n",
    "def generate_random_image(char):\n",
    "    ascii_value = ord(char)\n",
    "\n",
    "    if 48 <= ascii_value <= 57:\n",
    "        start = ((ascii_value - 48) * 55) + 1\n",
    "        end = ((ascii_value - 47) * 55)\n",
    "        r = random.randint(start, end)\n",
    "    elif 65 <= ascii_value <= 90:\n",
    "        start = 550 + (((ascii_value - 65) * 55) + 1)\n",
    "        end = 550 + ((ascii_value - 64) * 55)\n",
    "        r = random.randint(start, end)\n",
    "    else:\n",
    "        start = 1980 + (((ascii_value - 97) * 55) + 1)\n",
    "        end = 1980 + ((ascii_value - 96) * 55)\n",
    "        r = random.randint(start, end)\n",
    "\n",
    "    df = pd.read_csv('english.csv')\n",
    "    return df['image'].iloc[r-1]"
   ]
  },
  {
   "cell_type": "code",
   "execution_count": 3,
   "id": "9a110adc-f369-400e-958d-671937f98ac7",
   "metadata": {},
   "outputs": [],
   "source": [
    "import cv2\n",
    "import numpy as np\n",
    "\n",
    "def image_to_csv(input_image_path, output_csv_path):\n",
    "    # Read the image using OpenCV\n",
    "    image = cv2.imread(input_image_path, cv2.IMREAD_GRAYSCALE)\n",
    "\n",
    "    # Check if the image is loaded successfully\n",
    "    if image is None:\n",
    "        print(\"Error: Unable to read the image.\")\n",
    "        return\n",
    "\n",
    "    # Convert the flattened array to a NumPy array\n",
    "    numpy_array = np.asarray(image)\n",
    "\n",
    "    # Save the NumPy array to a CSV file\n",
    "    np.savetxt(output_csv_path, numpy_array, delimiter=\",\")"
   ]
  },
  {
   "cell_type": "code",
   "execution_count": 4,
   "id": "174ba1d9-0776-46a7-90f6-c6e290dd7dc5",
   "metadata": {},
   "outputs": [],
   "source": [
    "import pandas as pd\n",
    "import matplotlib.pyplot as plt\n",
    "\n",
    "def csv_to_image(csv_file, output_image):\n",
    "    # Read CSV file into a Pandas DataFrame\n",
    "    df = pd.read_csv(csv_file)\n",
    "\n",
    "    # Convert DataFrame to a NumPy array\n",
    "    data = df.values\n",
    "\n",
    "    # Plot the data as an image using Matplotlib\n",
    "    plt.imshow(data, cmap='gray', interpolation='nearest')\n",
    "\n",
    "    plt.axis('off')\n",
    "    \n",
    "    # Save the image without displaying it\n",
    "    plt.savefig(output_image)"
   ]
  },
  {
   "cell_type": "code",
   "execution_count": 5,
   "id": "5a964326-3e22-44ee-bbfd-24eb366f7452",
   "metadata": {},
   "outputs": [],
   "source": [
    "import pandas as pd\n",
    "\n",
    "def append_csv_files(input_csv1, input_csv2, output_csv):\n",
    "    # Read the first CSV file into a DataFrame\n",
    "    df1 = pd.read_csv(input_csv1, header=None)\n",
    "\n",
    "    # Read the second CSV file into a DataFrame\n",
    "    df2 = pd.read_csv(input_csv2, header=None)\n",
    "\n",
    "    # Concatenate the two DataFrames along the rows (axis=0)\n",
    "    combined_df = pd.concat([df1, df2], axis=1)\n",
    "\n",
    "    # Save the combined DataFrame to a new CSV file\n",
    "    combined_df.to_csv(output_csv, header=False, index=False)"
   ]
  },
  {
   "cell_type": "code",
   "execution_count": 6,
   "id": "ff758841-b7cd-4e9e-9dff-12621e3d1287",
   "metadata": {},
   "outputs": [],
   "source": [
    "i_1 = generate_random_image(input[0])\n",
    "image_to_csv(i_1, \"sam.csv\")\n",
    "for ch in input[1:]:\n",
    "    x = generate_random_image(ch)\n",
    "    image_to_csv(x, \"sam1.csv\")\n",
    "    append_csv_files(\"sam.csv\", \"sam1.csv\", \"sam.csv\")    "
   ]
  },
  {
   "cell_type": "code",
   "execution_count": 7,
   "id": "6ec96c40-71a9-4f09-9b1c-f9a1958017cd",
   "metadata": {},
   "outputs": [
    {
     "data": {
      "image/png": "[encoded data removed]",
      "text/plain": [
       "<Figure size 640x480 with 1 Axes>"
      ]
     },
     "metadata": {},
     "output_type": "display_data"
    }
   ],
   "source": [
    "if __name__ == \"__main__\":\n",
    "    csv = 'sam.csv'  # Replace with your CSV file path\n",
    "    output = 'Random.png'  # Replace with desired output image path\n",
    "\n",
    "    csv_to_image(csv, output)"
   ]
  }
 ],
 "metadata": {
  "kernelspec": {
   "display_name": "Python 3 (ipykernel)",
   "language": "python",
   "name": "python3"
  },
  "language_info": {
   "codemirror_mode": {
    "name": "ipython",
    "version": 3
   },
   "file_extension": ".py",
   "mimetype": "text/x-python",
   "name": "python",
   "nbconvert_exporter": "python",
   "pygments_lexer": "ipython3",
   "version": "3.12.1"
  }
 },
 "nbformat": 4,
 "nbformat_minor": 5
}
